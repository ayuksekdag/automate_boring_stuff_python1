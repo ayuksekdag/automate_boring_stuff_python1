{
  "nbformat": 4,
  "nbformat_minor": 0,
  "metadata": {
    "colab": {
      "name": "automate_boring_stuff_sms.ipynb",
      "provenance": [],
      "collapsed_sections": [],
      "authorship_tag": "ABX9TyONgl2odCfOhCH1ExNQrqUg",
      "include_colab_link": true
    },
    "kernelspec": {
      "name": "python3",
      "display_name": "Python 3"
    },
    "language_info": {
      "name": "python"
    }
  },
  "cells": [
    {
      "cell_type": "markdown",
      "metadata": {
        "id": "view-in-github",
        "colab_type": "text"
      },
      "source": [
        "<a href=\"https://colab.research.google.com/github/ayuksekdag/automate_boring_stuff_python1/blob/main/automate_boring_stuff_sms.ipynb\" target=\"_parent\"><img src=\"https://colab.research.google.com/assets/colab-badge.svg\" alt=\"Open In Colab\"/></a>"
      ]
    },
    {
      "cell_type": "markdown",
      "metadata": {
        "id": "OHUkpa8GkU3T"
      },
      "source": [
        "### python list"
      ]
    },
    {
      "cell_type": "code",
      "metadata": {
        "id": "k_ePRwSM2lGd",
        "outputId": "3673c60a-0e43-43a3-83ab-a231a70b46cc",
        "colab": {
          "base_uri": "https://localhost:8080/"
        }
      },
      "source": [
        "l1 = range(10)\n",
        "print (l1) \n",
        "type (l1 [0])"
      ],
      "execution_count": 4,
      "outputs": [
        {
          "output_type": "stream",
          "text": [
            "range(0, 10)\n"
          ],
          "name": "stdout"
        },
        {
          "output_type": "execute_result",
          "data": {
            "text/plain": [
              "int"
            ]
          },
          "metadata": {
            "tags": []
          },
          "execution_count": 4
        }
      ]
    },
    {
      "cell_type": "code",
      "metadata": {
        "id": "3pyXFfdekdMv",
        "outputId": "b02c3451-258f-4f54-f6d3-b5204fa81e5d",
        "colab": {
          "base_uri": "https://localhost:8080/"
        }
      },
      "source": [
        "# list of strings\n",
        "l2 = [str(c) for c in l1]\n",
        "print(l2) \n",
        "type (l2[0])"
      ],
      "execution_count": 7,
      "outputs": [
        {
          "output_type": "stream",
          "text": [
            "['0', '1', '2', '3', '4', '5', '6', '7', '8', '9']\n"
          ],
          "name": "stdout"
        },
        {
          "output_type": "execute_result",
          "data": {
            "text/plain": [
              "str"
            ]
          },
          "metadata": {
            "tags": []
          },
          "execution_count": 7
        }
      ]
    },
    {
      "cell_type": "code",
      "metadata": {
        "id": "DY7BDIWolKTG",
        "outputId": "daecd92b-1581-49ab-860b-33c8a1d2e774",
        "colab": {
          "base_uri": "https://localhost:8080/"
        }
      },
      "source": [
        "i = range(2)\n",
        "l3 = [bool(c) for c in i  ]\n",
        "l3.append('tekst')\n",
        "l3.append(3)\n",
        "l3.append(4.66)\n",
        "print(l3)\n",
        "print(type(l3[0]), type(l3[2]),type(l3[3]),type(l3[4]))"
      ],
      "execution_count": 19,
      "outputs": [
        {
          "output_type": "stream",
          "text": [
            "[False, True, 'tekst', 3, 4.66]\n",
            "<class 'bool'> <class 'str'> <class 'int'> <class 'float'>\n"
          ],
          "name": "stdout"
        }
      ]
    }
  ]
}